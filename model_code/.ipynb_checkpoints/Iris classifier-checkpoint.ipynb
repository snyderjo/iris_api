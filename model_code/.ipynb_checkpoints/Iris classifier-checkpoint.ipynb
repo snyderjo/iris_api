{
 "cells": [
  {
   "cell_type": "code",
   "execution_count": 20,
   "id": "00324498",
   "metadata": {},
   "outputs": [],
   "source": [
    "import numpy as np\n",
    "import pandas as pd\n",
    "from joblib import dump\n",
    "from sklearn import datasets\n",
    "from sklearn.svm import SVC\n",
    "from sklearn.naive_bayes import GaussianNB\n",
    "from sklearn.ensemble import RandomForestClassifier, VotingClassifier\n",
    "from sklearn.model_selection import train_test_split,GridSearchCV\n",
    "\n",
    "import matplotlib.pyplot as plt"
   ]
  },
  {
   "cell_type": "code",
   "execution_count": 2,
   "id": "9ed231d9",
   "metadata": {},
   "outputs": [],
   "source": [
    "iris = datasets.load_iris()"
   ]
  },
  {
   "cell_type": "code",
   "execution_count": 3,
   "id": "8eb9ff10",
   "metadata": {},
   "outputs": [
    {
     "name": "stdout",
     "output_type": "stream",
     "text": [
      ".. _iris_dataset:\n",
      "\n",
      "Iris plants dataset\n",
      "--------------------\n",
      "\n",
      "**Data Set Characteristics:**\n",
      "\n",
      "    :Number of Instances: 150 (50 in each of three classes)\n",
      "    :Number of Attributes: 4 numeric, predictive attributes and the class\n",
      "    :Attribute Information:\n",
      "        - sepal length in cm\n",
      "        - sepal width in cm\n",
      "        - petal length in cm\n",
      "        - petal width in cm\n",
      "        - class:\n",
      "                - Iris-Setosa\n",
      "                - Iris-Versicolour\n",
      "                - Iris-Virginica\n",
      "                \n",
      "    :Summary Statistics:\n",
      "\n",
      "    ============== ==== ==== ======= ===== ====================\n",
      "                    Min  Max   Mean    SD   Class Correlation\n",
      "    ============== ==== ==== ======= ===== ====================\n",
      "    sepal length:   4.3  7.9   5.84   0.83    0.7826\n",
      "    sepal width:    2.0  4.4   3.05   0.43   -0.4194\n",
      "    petal length:   1.0  6.9   3.76   1.76    0.9490  (high!)\n",
      "    petal width:    0.1  2.5   1.20   0.76    0.9565  (high!)\n",
      "    ============== ==== ==== ======= ===== ====================\n",
      "\n",
      "    :Missing Attribute Values: None\n",
      "    :Class Distribution: 33.3% for each of 3 classes.\n",
      "    :Creator: R.A. Fisher\n",
      "    :Donor: Michael Marshall (MARSHALL%PLU@io.arc.nasa.gov)\n",
      "    :Date: July, 1988\n",
      "\n",
      "The famous Iris database, first used by Sir R.A. Fisher. The dataset is taken\n",
      "from Fisher's paper. Note that it's the same as in R, but not as in the UCI\n",
      "Machine Learning Repository, which has two wrong data points.\n",
      "\n",
      "This is perhaps the best known database to be found in the\n",
      "pattern recognition literature.  Fisher's paper is a classic in the field and\n",
      "is referenced frequently to this day.  (See Duda & Hart, for example.)  The\n",
      "data set contains 3 classes of 50 instances each, where each class refers to a\n",
      "type of iris plant.  One class is linearly separable from the other 2; the\n",
      "latter are NOT linearly separable from each other.\n",
      "\n",
      ".. topic:: References\n",
      "\n",
      "   - Fisher, R.A. \"The use of multiple measurements in taxonomic problems\"\n",
      "     Annual Eugenics, 7, Part II, 179-188 (1936); also in \"Contributions to\n",
      "     Mathematical Statistics\" (John Wiley, NY, 1950).\n",
      "   - Duda, R.O., & Hart, P.E. (1973) Pattern Classification and Scene Analysis.\n",
      "     (Q327.D83) John Wiley & Sons.  ISBN 0-471-22361-1.  See page 218.\n",
      "   - Dasarathy, B.V. (1980) \"Nosing Around the Neighborhood: A New System\n",
      "     Structure and Classification Rule for Recognition in Partially Exposed\n",
      "     Environments\".  IEEE Transactions on Pattern Analysis and Machine\n",
      "     Intelligence, Vol. PAMI-2, No. 1, 67-71.\n",
      "   - Gates, G.W. (1972) \"The Reduced Nearest Neighbor Rule\".  IEEE Transactions\n",
      "     on Information Theory, May 1972, 431-433.\n",
      "   - See also: 1988 MLC Proceedings, 54-64.  Cheeseman et al\"s AUTOCLASS II\n",
      "     conceptual clustering system finds 3 classes in the data.\n",
      "   - Many, many more ...\n"
     ]
    }
   ],
   "source": [
    "print(iris.DESCR)"
   ]
  },
  {
   "cell_type": "code",
   "execution_count": 4,
   "id": "c41dbfdd",
   "metadata": {},
   "outputs": [],
   "source": [
    "Y = iris.target\n",
    "X = iris.data\n",
    "class_labels = iris.target_names\n",
    "X_variable_names = iris.feature_names"
   ]
  },
  {
   "cell_type": "markdown",
   "id": "f201f788",
   "metadata": {},
   "source": [
    "What is the rate of missing data?"
   ]
  },
  {
   "cell_type": "code",
   "execution_count": 5,
   "id": "2b969208",
   "metadata": {},
   "outputs": [
    {
     "data": {
      "text/plain": [
       "0.0"
      ]
     },
     "execution_count": 5,
     "metadata": {},
     "output_type": "execute_result"
    }
   ],
   "source": [
    "np.mean(np.isnan(X)) #thankkfully there's no missing data"
   ]
  },
  {
   "cell_type": "markdown",
   "id": "c3879e33",
   "metadata": {},
   "source": [
    "### Train-Test Split\n",
    "Save a small portion of the X and Y data sets for testing, and to eventually passing to the API"
   ]
  },
  {
   "cell_type": "code",
   "execution_count": 6,
   "id": "977cae90",
   "metadata": {},
   "outputs": [],
   "source": [
    "X_train, X_test, Y_train, Y_test = train_test_split(X, Y, test_size = .05, random_state = 42)"
   ]
  },
  {
   "cell_type": "markdown",
   "id": "2f7a6149",
   "metadata": {},
   "source": [
    "### Data exploration"
   ]
  },
  {
   "cell_type": "code",
   "execution_count": 7,
   "id": "82fdde21",
   "metadata": {},
   "outputs": [
    {
     "name": "stdout",
     "output_type": "stream",
     "text": [
      "Class labels are: ['setosa' 'versicolor' 'virginica']\n",
      "Feature are: ['sepal length (cm)', 'sepal width (cm)', 'petal length (cm)', 'petal width (cm)']\n"
     ]
    }
   ],
   "source": [
    "print(f\"Class labels are: {class_labels}\")\n",
    "print(f\"Feature are: {X_variable_names}\")"
   ]
  },
  {
   "cell_type": "code",
   "execution_count": 8,
   "id": "096095bf",
   "metadata": {},
   "outputs": [
    {
     "name": "stdout",
     "output_type": "stream",
     "text": [
      "[48 46 48]\n",
      "(142, 4)\n"
     ]
    }
   ],
   "source": [
    "print(np.bincount(Y_train)) #well balanced\n",
    "print(X_train.shape)"
   ]
  },
  {
   "cell_type": "markdown",
   "id": "3c2f69d0",
   "metadata": {},
   "source": [
    "Save the train feature means for replacement and default values."
   ]
  },
  {
   "cell_type": "code",
   "execution_count": 9,
   "id": "6662876e",
   "metadata": {},
   "outputs": [],
   "source": [
    "feature_means = dict(zip(X_variable_names, np.mean(X_train, axis=0)))"
   ]
  },
  {
   "cell_type": "code",
   "execution_count": 10,
   "id": "a8978907",
   "metadata": {},
   "outputs": [
    {
     "name": "stdout",
     "output_type": "stream",
     "text": [
      "{'sepal length (cm)': 5.8190140845070415, 'sepal width (cm)': 3.0584507042253524, 'petal length (cm)': 3.7387323943661976, 'petal width (cm)': 1.1915492957746483}\n"
     ]
    }
   ],
   "source": [
    "print(feature_means)"
   ]
  },
  {
   "cell_type": "markdown",
   "id": "59480ca3",
   "metadata": {},
   "source": [
    "### Visualization\n",
    "Visualize the training data"
   ]
  },
  {
   "cell_type": "code",
   "execution_count": 11,
   "id": "5c9b1367",
   "metadata": {},
   "outputs": [
    {
     "data": {
      "image/png": "[encoded data removed]",
      "text/plain": [
       "<Figure size 1080x432 with 3 Axes>"
      ]
     },
     "metadata": {
      "needs_background": "light"
     },
     "output_type": "display_data"
    }
   ],
   "source": [
    "plt.figure(figsize = [15.0,6.0])\n",
    "\n",
    "plt.subplot(1,3,1)\n",
    "plt.scatter(X_train[:,0],X_train[:,1],c=Y_train)\n",
    "plt.xlabel(X_variable_names[0])\n",
    "plt.ylabel(X_variable_names[1])\n",
    "\n",
    "plt.subplot(1,3,2)\n",
    "plt.scatter(X_train[:,0],X_train[:,2],c=Y_train)\n",
    "plt.xlabel(X_variable_names[0])\n",
    "plt.ylabel(X_variable_names[2])\n",
    "\n",
    "plt.subplot(1,3,3)\n",
    "plt.scatter(X_train[:,1],X_train[:,2],c=Y_train)\n",
    "plt.xlabel(X_variable_names[1])\n",
    "plt.ylabel(X_variable_names[2])\n",
    "\n",
    "\n",
    "plt.show()\n"
   ]
  },
  {
   "cell_type": "markdown",
   "id": "cd033362",
   "metadata": {},
   "source": [
    "There's some noise in the process, but not a terribly large amount."
   ]
  },
  {
   "cell_type": "markdown",
   "id": "9a7157ab",
   "metadata": {},
   "source": [
    "## Estimating Models\n",
    "The idea is to create seeral models, and then an enseamble all of them.\n",
    "\n",
    "The plan is to create and evaluate the following models:\n",
    "\n",
    "* Naive Bayes,\n",
    "* Random Forest,\n",
    "* Support Vector Machine (with a normal kernel),  \n",
    "\n",
    "and then an ensemble of all of the above.\n",
    "\n",
    "### Naive Bayes\n",
    "This model estimates the parameters of a normal distribution for the marginal distributions of our three variables for each type of iris.  The model then multiplies the vlue of the estimated normal distribution of each variable together for each iris category as well as the relative prevelance of each iris type, and uses the greatest product to pick a most likely iris variety.\n",
    "It is \"naive\" in that it ignores correlations/dependencies between individual features/variables."
   ]
  },
  {
   "cell_type": "code",
   "execution_count": 43,
   "id": "d62c0e6c",
   "metadata": {},
   "outputs": [
    {
     "name": "stdout",
     "output_type": "stream",
     "text": [
      "Training subset accuracy is:  0.9577464788732394\n",
      "Testing subset accuracy is:  1.0\n"
     ]
    }
   ],
   "source": [
    "clf_gnb = GaussianNB()\n",
    "clf_gnb.fit(X_train, Y_train)\n",
    "print(\"Training subset accuracy is: \", clf_gnb.score(X_train,Y_train))\n",
    "print(\"Testing subset accuracy is: \", clf_gnb.score(X_test,Y_test))"
   ]
  },
  {
   "cell_type": "markdown",
   "id": "a5de22f9",
   "metadata": {},
   "source": [
    "### Random Forest (classifier)\n",
    "Random forest is very nealy a bagged tree classifier.  That is, it creates an ensemble of individual tree classifiers (defaulting to 100 individual trees) from boostrapped samples.  The difference being that random forest has the additional random behavior of predicting cuts on each node from a random sample of available explanatory variables--we only have three possible variables/features, so this may have minimal effect.\n",
    "The default behavior is to examine `sqrt(n_features)` for a valid split."
   ]
  },
  {
   "cell_type": "code",
   "execution_count": 42,
   "id": "aed069c7",
   "metadata": {},
   "outputs": [
    {
     "name": "stdout",
     "output_type": "stream",
     "text": [
      "The training acccuracy is 1.0\n",
      "The out of bag-score (accuracy) is  0.9366197183098591\n",
      "Testing subset accuracy is:  1.0\n"
     ]
    }
   ],
   "source": [
    "clf_rf = RandomForestClassifier(oob_score = True)\n",
    "clf_rf.fit(X_train,Y_train)\n",
    "print(\"The training acccuracy is\",clf_rf.score(X_train,Y_train))\n",
    "print(\"The out of bag-score (accuracy) is \",clf_rf.oob_score_)\n",
    "print(\"Testing subset accuracy is: \", clf_rf.score(X_test,Y_test))"
   ]
  },
  {
   "cell_type": "markdown",
   "id": "b8370e59",
   "metadata": {},
   "source": [
    "Training accuracy is even higher, which is to be expected given that RF is more flexible than NB.  \n",
    "Note the `oob` of \"out of bag\" score is unique to boostrapped models, which is produced by running individual training records from outside of a given boostrap sample through a given model (a tree in this case), and being evaluated."
   ]
  },
  {
   "cell_type": "markdown",
   "id": "acb406c8",
   "metadata": {},
   "source": [
    "### Support Vector Machine\n",
    "I've never found an especially satisfactory explanation of how SVM's work.  The phrase often bandied about is that of \"the kernel trick\".  Each kernel seems to have its own interpretation.  We're using the normal kernel (or RBF kernel in sci-kit learn's parlance).  The best I can figure out, the SVM produces a probability density around each training example.  These densities are combined across all training records to produce a likely outcome for a given value space.\n",
    "\n",
    "#### Finding optimum hyperparameter values\n",
    "We don't wish to overfit, so we must find the optimum hyper parameters The plan is to use the normal kernel SVM--we have to establish hyperparameters."
   ]
  },
  {
   "cell_type": "code",
   "execution_count": 28,
   "id": "ec2c5ad8",
   "metadata": {},
   "outputs": [
    {
     "name": "stdout",
     "output_type": "stream",
     "text": [
      "{'C': 100, 'gamma': 0.01}\n"
     ]
    }
   ],
   "source": [
    "clf_svm = SVC(kernel = 'rbf')\n",
    "param_vals =  {'C': [1, 10, 100, 1000], 'gamma': [0.1, 0.01, 0.001, 0.0001]}\n",
    "grid_search_SVC = GridSearchCV(clf_svm, param_grid = param_vals)\n",
    "grid_search_SVC.fit(X_train,Y_train)\n",
    "print(grid_search_SVC.best_params_)"
   ]
  },
  {
   "cell_type": "markdown",
   "id": "44204229",
   "metadata": {},
   "source": [
    "Okay.  We have our hyper parameters for the support vector machine"
   ]
  },
  {
   "cell_type": "code",
   "execution_count": 44,
   "id": "9ede0277",
   "metadata": {},
   "outputs": [
    {
     "name": "stdout",
     "output_type": "stream",
     "text": [
      "Training subset accuracy is:  0.9859154929577465\n",
      "Testing subset accuracy is:  1.0\n"
     ]
    }
   ],
   "source": [
    "clf_svm = SVC(\n",
    "    kernel = 'rbf',\n",
    "    C = grid_search_SVC.best_params_[\"C\"],\n",
    "    gamma = grid_search_SVC.best_params_[\"gamma\"],\n",
    "    probability = True\n",
    ")\n",
    "clf_svm.fit(X_train,Y_train)\n",
    "print(\"Training subset accuracy is: \", clf_svm.score(X_train,Y_train))\n",
    "print(\"Testing subset accuracy is: \", clf_svm.score(X_test,Y_test))"
   ]
  },
  {
   "cell_type": "markdown",
   "id": "df6f4aeb",
   "metadata": {},
   "source": [
    "(The reason for the `probability = True` is necessary for the next step)\n",
    "Better than Naive Bayes.  Not quite as good as the random forest."
   ]
  },
  {
   "cell_type": "markdown",
   "id": "98a1f132",
   "metadata": {},
   "source": [
    "### Ensemble model\n",
    "The idea here is to combine all of the models above into a single estimator."
   ]
  },
  {
   "cell_type": "code",
   "execution_count": 45,
   "id": "9182ba7b",
   "metadata": {},
   "outputs": [
    {
     "data": {
      "text/html": [
       "<style>#sk-container-id-2 {color: black;background-color: white;}#sk-container-id-2 pre{padding: 0;}#sk-container-id-2 div.sk-toggleable {background-color: white;}#sk-container-id-2 label.sk-toggleable__label {cursor: pointer;display: block;width: 100%;margin-bottom: 0;padding: 0.3em;box-sizing: border-box;text-align: center;}#sk-container-id-2 label.sk-toggleable__label-arrow:before {content: \"▸\";float: left;margin-right: 0.25em;color: #696969;}#sk-container-id-2 label.sk-toggleable__label-arrow:hover:before {color: black;}#sk-container-id-2 div.sk-estimator:hover label.sk-toggleable__label-arrow:before {color: black;}#sk-container-id-2 div.sk-toggleable__content {max-height: 0;max-width: 0;overflow: hidden;text-align: left;background-color: #f0f8ff;}#sk-container-id-2 div.sk-toggleable__content pre {margin: 0.2em;color: black;border-radius: 0.25em;background-color: #f0f8ff;}#sk-container-id-2 input.sk-toggleable__control:checked~div.sk-toggleable__content {max-height: 200px;max-width: 100%;overflow: auto;}#sk-container-id-2 input.sk-toggleable__control:checked~label.sk-toggleable__label-arrow:before {content: \"▾\";}#sk-container-id-2 div.sk-estimator input.sk-toggleable__control:checked~label.sk-toggleable__label {background-color: #d4ebff;}#sk-container-id-2 div.sk-label input.sk-toggleable__control:checked~label.sk-toggleable__label {background-color: #d4ebff;}#sk-container-id-2 input.sk-hidden--visually {border: 0;clip: rect(1px 1px 1px 1px);clip: rect(1px, 1px, 1px, 1px);height: 1px;margin: -1px;overflow: hidden;padding: 0;position: absolute;width: 1px;}#sk-container-id-2 div.sk-estimator {font-family: monospace;background-color: #f0f8ff;border: 1px dotted black;border-radius: 0.25em;box-sizing: border-box;margin-bottom: 0.5em;}#sk-container-id-2 div.sk-estimator:hover {background-color: #d4ebff;}#sk-container-id-2 div.sk-parallel-item::after {content: \"\";width: 100%;border-bottom: 1px solid gray;flex-grow: 1;}#sk-container-id-2 div.sk-label:hover label.sk-toggleable__label {background-color: #d4ebff;}#sk-container-id-2 div.sk-serial::before {content: \"\";position: absolute;border-left: 1px solid gray;box-sizing: border-box;top: 0;bottom: 0;left: 50%;z-index: 0;}#sk-container-id-2 div.sk-serial {display: flex;flex-direction: column;align-items: center;background-color: white;padding-right: 0.2em;padding-left: 0.2em;position: relative;}#sk-container-id-2 div.sk-item {position: relative;z-index: 1;}#sk-container-id-2 div.sk-parallel {display: flex;align-items: stretch;justify-content: center;background-color: white;position: relative;}#sk-container-id-2 div.sk-item::before, #sk-container-id-2 div.sk-parallel-item::before {content: \"\";position: absolute;border-left: 1px solid gray;box-sizing: border-box;top: 0;bottom: 0;left: 50%;z-index: -1;}#sk-container-id-2 div.sk-parallel-item {display: flex;flex-direction: column;z-index: 1;position: relative;background-color: white;}#sk-container-id-2 div.sk-parallel-item:first-child::after {align-self: flex-end;width: 50%;}#sk-container-id-2 div.sk-parallel-item:last-child::after {align-self: flex-start;width: 50%;}#sk-container-id-2 div.sk-parallel-item:only-child::after {width: 0;}#sk-container-id-2 div.sk-dashed-wrapped {border: 1px dashed gray;margin: 0 0.4em 0.5em 0.4em;box-sizing: border-box;padding-bottom: 0.4em;background-color: white;}#sk-container-id-2 div.sk-label label {font-family: monospace;font-weight: bold;display: inline-block;line-height: 1.2em;}#sk-container-id-2 div.sk-label-container {text-align: center;}#sk-container-id-2 div.sk-container {/* jupyter's `normalize.less` sets `[hidden] { display: none; }` but bootstrap.min.css set `[hidden] { display: none !important; }` so we also need the `!important` here to be able to override the default hidden behavior on the sphinx rendered scikit-learn.org. See: https://github.com/scikit-learn/scikit-learn/issues/21755 */display: inline-block !important;position: relative;}#sk-container-id-2 div.sk-text-repr-fallback {display: none;}</style><div id=\"sk-container-id-2\" class=\"sk-top-container\"><div class=\"sk-text-repr-fallback\"><pre>VotingClassifier(estimators=[(&#x27;nb&#x27;, GaussianNB()),\n",
       "                             (&#x27;rf&#x27;, RandomForestClassifier(oob_score=True)),\n",
       "                             (&#x27;svm&#x27;, SVC(C=100, gamma=0.01, probability=True))],\n",
       "                 voting=&#x27;soft&#x27;)</pre><b>In a Jupyter environment, please rerun this cell to show the HTML representation or trust the notebook. <br />On GitHub, the HTML representation is unable to render, please try loading this page with nbviewer.org.</b></div><div class=\"sk-container\" hidden><div class=\"sk-item sk-dashed-wrapped\"><div class=\"sk-label-container\"><div class=\"sk-label sk-toggleable\"><input class=\"sk-toggleable__control sk-hidden--visually\" id=\"sk-estimator-id-5\" type=\"checkbox\" ><label for=\"sk-estimator-id-5\" class=\"sk-toggleable__label sk-toggleable__label-arrow\">VotingClassifier</label><div class=\"sk-toggleable__content\"><pre>VotingClassifier(estimators=[(&#x27;nb&#x27;, GaussianNB()),\n",
       "                             (&#x27;rf&#x27;, RandomForestClassifier(oob_score=True)),\n",
       "                             (&#x27;svm&#x27;, SVC(C=100, gamma=0.01, probability=True))],\n",
       "                 voting=&#x27;soft&#x27;)</pre></div></div></div><div class=\"sk-parallel\"><div class=\"sk-parallel-item\"><div class=\"sk-item\"><div class=\"sk-label-container\"><div class=\"sk-label sk-toggleable\"><label>nb</label></div></div><div class=\"sk-serial\"><div class=\"sk-item\"><div class=\"sk-estimator sk-toggleable\"><input class=\"sk-toggleable__control sk-hidden--visually\" id=\"sk-estimator-id-6\" type=\"checkbox\" ><label for=\"sk-estimator-id-6\" class=\"sk-toggleable__label sk-toggleable__label-arrow\">GaussianNB</label><div class=\"sk-toggleable__content\"><pre>GaussianNB()</pre></div></div></div></div></div></div><div class=\"sk-parallel-item\"><div class=\"sk-item\"><div class=\"sk-label-container\"><div class=\"sk-label sk-toggleable\"><label>rf</label></div></div><div class=\"sk-serial\"><div class=\"sk-item\"><div class=\"sk-estimator sk-toggleable\"><input class=\"sk-toggleable__control sk-hidden--visually\" id=\"sk-estimator-id-7\" type=\"checkbox\" ><label for=\"sk-estimator-id-7\" class=\"sk-toggleable__label sk-toggleable__label-arrow\">RandomForestClassifier</label><div class=\"sk-toggleable__content\"><pre>RandomForestClassifier(oob_score=True)</pre></div></div></div></div></div></div><div class=\"sk-parallel-item\"><div class=\"sk-item\"><div class=\"sk-label-container\"><div class=\"sk-label sk-toggleable\"><label>svm</label></div></div><div class=\"sk-serial\"><div class=\"sk-item\"><div class=\"sk-estimator sk-toggleable\"><input class=\"sk-toggleable__control sk-hidden--visually\" id=\"sk-estimator-id-8\" type=\"checkbox\" ><label for=\"sk-estimator-id-8\" class=\"sk-toggleable__label sk-toggleable__label-arrow\">SVC</label><div class=\"sk-toggleable__content\"><pre>SVC(C=100, gamma=0.01, probability=True)</pre></div></div></div></div></div></div></div></div></div></div>"
      ],
      "text/plain": [
       "VotingClassifier(estimators=[('nb', GaussianNB()),\n",
       "                             ('rf', RandomForestClassifier(oob_score=True)),\n",
       "                             ('svm', SVC(C=100, gamma=0.01, probability=True))],\n",
       "                 voting='soft')"
      ]
     },
     "execution_count": 45,
     "metadata": {},
     "output_type": "execute_result"
    }
   ],
   "source": [
    "eclf = VotingClassifier(\n",
    "    estimators = [(\"nb\",clf_gnb),(\"rf\",clf_rf),(\"svm\",clf_svm)]\n",
    "    , voting = \"soft\"\n",
    ")\n",
    "\n",
    "eclf.fit(X_train,Y_train)"
   ]
  },
  {
   "cell_type": "markdown",
   "id": "8de6f564",
   "metadata": {},
   "source": [
    "The `soft` voting parameter combines the output probability vectors of the individual estimators.  A `hard` estimator would go on majority rule of predicted class from each estimator."
   ]
  },
  {
   "cell_type": "code",
   "execution_count": 36,
   "id": "00723528",
   "metadata": {},
   "outputs": [
    {
     "name": "stdout",
     "output_type": "stream",
     "text": [
      "Training subset accuracy is:  0.971830985915493\n",
      "Testing subset accuracy is:  1.0\n"
     ]
    }
   ],
   "source": [
    "print(\"Training subset accuracy is: \",eclf.score(X_train,Y_train))\n",
    "print(\"Testing subset accuracy is: \",eclf.score(X_test,Y_test))"
   ]
  },
  {
   "cell_type": "markdown",
   "id": "9cd6ac8f",
   "metadata": {},
   "source": [
    "The Naive Bayes seems to be dragging the ensemble predictions down....  \n",
    "I suspect we got lucky in the initial train-test split in avoiding all of the ambiguous or borderline species."
   ]
  },
  {
   "cell_type": "code",
   "execution_count": 39,
   "id": "780d046b",
   "metadata": {},
   "outputs": [],
   "source": [
    "test_preds = eclf.predict(X_test)"
   ]
  },
  {
   "cell_type": "code",
   "execution_count": 40,
   "id": "670c3c99",
   "metadata": {},
   "outputs": [
    {
     "data": {
      "text/plain": [
       "1.0"
      ]
     },
     "execution_count": 40,
     "metadata": {},
     "output_type": "execute_result"
    }
   ],
   "source": [
    "np.mean(Y_test == test_preds)"
   ]
  },
  {
   "cell_type": "code",
   "execution_count": 41,
   "id": "c7a5de9c",
   "metadata": {},
   "outputs": [
    {
     "name": "stdout",
     "output_type": "stream",
     "text": [
      "['versicolor', 'setosa', 'virginica', 'versicolor', 'versicolor', 'setosa', 'versicolor', 'virginica']\n",
      "['versicolor', 'setosa', 'virginica', 'versicolor', 'versicolor', 'setosa', 'versicolor', 'virginica']\n"
     ]
    }
   ],
   "source": [
    "#predicted class labels actual labels\n",
    "print(class_labels[test_preds].tolist())\n",
    "print(class_labels[Y_test].tolist())\n"
   ]
  },
  {
   "cell_type": "markdown",
   "id": "8d6affc1",
   "metadata": {},
   "source": [
    "Even better!\n",
    "\n",
    "## Saving the model\n",
    "Save the model for the API, in addition to the feature means (for default values), class names, feature names, and the test data."
   ]
  },
  {
   "cell_type": "code",
   "execution_count": 21,
   "id": "17fec99c",
   "metadata": {},
   "outputs": [],
   "source": [
    "X_test_df = pd.DataFrame(X_test,columns = X_variable_names, index = None)"
   ]
  },
  {
   "cell_type": "code",
   "execution_count": 22,
   "id": "b0cb6959",
   "metadata": {},
   "outputs": [],
   "source": [
    "dump(eclf,\"classifier.joblib\")\n",
    "\n",
    "dump(class_labels,\"class_names.joblib\")\n",
    "dump(feature_means,\"feature_means.joblib\")\n",
    "\n",
    "X_test_df.to_csv(\"X_test.csv\")\n",
    "X_test_df.to_json(\"X_test.json\",orient = \"records\")"
   ]
  },
  {
   "cell_type": "code",
   "execution_count": 23,
   "id": "68257a6a",
   "metadata": {},
   "outputs": [
    {
     "data": {
      "text/html": [
       "<div>\n",
       "<style scoped>\n",
       "    .dataframe tbody tr th:only-of-type {\n",
       "        vertical-align: middle;\n",
       "    }\n",
       "\n",
       "    .dataframe tbody tr th {\n",
       "        vertical-align: top;\n",
       "    }\n",
       "\n",
       "    .dataframe thead th {\n",
       "        text-align: right;\n",
       "    }\n",
       "</style>\n",
       "<table border=\"1\" class=\"dataframe\">\n",
       "  <thead>\n",
       "    <tr style=\"text-align: right;\">\n",
       "      <th></th>\n",
       "      <th>sepal length (cm)</th>\n",
       "      <th>sepal width (cm)</th>\n",
       "      <th>petal length (cm)</th>\n",
       "      <th>petal width (cm)</th>\n",
       "    </tr>\n",
       "  </thead>\n",
       "  <tbody>\n",
       "    <tr>\n",
       "      <th>0</th>\n",
       "      <td>6.1</td>\n",
       "      <td>2.8</td>\n",
       "      <td>4.7</td>\n",
       "      <td>1.2</td>\n",
       "    </tr>\n",
       "    <tr>\n",
       "      <th>1</th>\n",
       "      <td>5.7</td>\n",
       "      <td>3.8</td>\n",
       "      <td>1.7</td>\n",
       "      <td>0.3</td>\n",
       "    </tr>\n",
       "    <tr>\n",
       "      <th>2</th>\n",
       "      <td>7.7</td>\n",
       "      <td>2.6</td>\n",
       "      <td>6.9</td>\n",
       "      <td>2.3</td>\n",
       "    </tr>\n",
       "    <tr>\n",
       "      <th>3</th>\n",
       "      <td>6.0</td>\n",
       "      <td>2.9</td>\n",
       "      <td>4.5</td>\n",
       "      <td>1.5</td>\n",
       "    </tr>\n",
       "    <tr>\n",
       "      <th>4</th>\n",
       "      <td>6.8</td>\n",
       "      <td>2.8</td>\n",
       "      <td>4.8</td>\n",
       "      <td>1.4</td>\n",
       "    </tr>\n",
       "    <tr>\n",
       "      <th>5</th>\n",
       "      <td>5.4</td>\n",
       "      <td>3.4</td>\n",
       "      <td>1.5</td>\n",
       "      <td>0.4</td>\n",
       "    </tr>\n",
       "    <tr>\n",
       "      <th>6</th>\n",
       "      <td>5.6</td>\n",
       "      <td>2.9</td>\n",
       "      <td>3.6</td>\n",
       "      <td>1.3</td>\n",
       "    </tr>\n",
       "    <tr>\n",
       "      <th>7</th>\n",
       "      <td>6.9</td>\n",
       "      <td>3.1</td>\n",
       "      <td>5.1</td>\n",
       "      <td>2.3</td>\n",
       "    </tr>\n",
       "  </tbody>\n",
       "</table>\n",
       "</div>"
      ],
      "text/plain": [
       "   sepal length (cm)  sepal width (cm)  petal length (cm)  petal width (cm)\n",
       "0                6.1               2.8                4.7               1.2\n",
       "1                5.7               3.8                1.7               0.3\n",
       "2                7.7               2.6                6.9               2.3\n",
       "3                6.0               2.9                4.5               1.5\n",
       "4                6.8               2.8                4.8               1.4\n",
       "5                5.4               3.4                1.5               0.4\n",
       "6                5.6               2.9                3.6               1.3\n",
       "7                6.9               3.1                5.1               2.3"
      ]
     },
     "execution_count": 23,
     "metadata": {},
     "output_type": "execute_result"
    }
   ],
   "source": [
    "X_test_df"
   ]
  },
  {
   "cell_type": "code",
   "execution_count": null,
   "id": "d7cf3b49",
   "metadata": {},
   "outputs": [],
   "source": []
  }
 ],
 "metadata": {
  "kernelspec": {
   "display_name": "Python 3 (ipykernel)",
   "language": "python",
   "name": "python3"
  },
  "language_info": {
   "codemirror_mode": {
    "name": "ipython",
    "version": 3
   },
   "file_extension": ".py",
   "mimetype": "text/x-python",
   "name": "python",
   "nbconvert_exporter": "python",
   "pygments_lexer": "ipython3",
   "version": "3.10.4"
  }
 },
 "nbformat": 4,
 "nbformat_minor": 5
}
